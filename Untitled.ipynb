{
 "cells": [
  {
   "cell_type": "code",
   "execution_count": 2,
   "id": "9bc45132-18dc-4005-92f9-fa22659c781f",
   "metadata": {},
   "outputs": [
    {
     "name": "stdout",
     "output_type": "stream",
     "text": [
      "Initialized empty Git repository in C:/Users/prais/Downloads/Scalable Databases CS673/NYC DATA/data/.git/\n"
     ]
    },
    {
     "name": "stderr",
     "output_type": "stream",
     "text": [
      "warning: in the working copy of '.ipynb_checkpoints/NYC Analysis Project-checkpoint.ipynb', LF will be replaced by CRLF the next time Git touches it\n",
      "warning: in the working copy of '.ipynb_checkpoints/Untitled-checkpoint.ipynb', LF will be replaced by CRLF the next time Git touches it\n",
      "warning: in the working copy of 'NYC Analysis Project.ipynb', LF will be replaced by CRLF the next time Git touches it\n",
      "warning: in the working copy of 'Untitled.ipynb', LF will be replaced by CRLF the next time Git touches it\n"
     ]
    },
    {
     "name": "stdout",
     "output_type": "stream",
     "text": [
      "[master (root-commit) 97b8761] Initial commit: project structure and notebook\n",
      " 8 files changed, 367798 insertions(+)\n",
      " create mode 100644 .ipynb_checkpoints/NYC Analysis Project-checkpoint.ipynb\n",
      " create mode 100644 .ipynb_checkpoints/Untitled-checkpoint.ipynb\n",
      " create mode 100644 311 service requests to date d.csv\n",
      " create mode 100644 NYC Analysis Project.ipynb\n",
      " create mode 100644 NYPD Arrest data o date.csv\n",
      " create mode 100644 NYPD Complaint data to date d.csv\n",
      " create mode 100644 Untitled.ipynb\n",
      " create mode 100644 output/nyc_analysis.db\n",
      "Repository 'NYC Analysis Project' initialized locally for user Takudzwa-debug.\n"
     ]
    }
   ],
   "source": [
    "# Initialize Git repository in Jupyter (Windows-safe)\n",
    "REPO_NAME = \"NYC Analysis Project\"\n",
    "GITHUB_USER = \"Takudzwa-debug\"\n",
    "\n",
    "!git init\n",
    "!git add .\n",
    "!git commit -m \"Initial commit: project structure and notebook\"\n",
    "print(f\"Repository '{REPO_NAME}' initialized locally for user {GITHUB_USER}.\")\n"
   ]
  },
  {
   "cell_type": "code",
   "execution_count": 9,
   "id": "9ab635ea-f599-4bfa-ac74-6a402f02e9d1",
   "metadata": {},
   "outputs": [
    {
     "name": "stderr",
     "output_type": "stream",
     "text": [
      "warning: in the working copy of 'Untitled.ipynb', LF will be replaced by CRLF the next time Git touches it\n"
     ]
    },
    {
     "name": "stdout",
     "output_type": "stream",
     "text": [
      "[main a44af32] Exclude large .db files and re-commit clean repo\n",
      " 2 files changed, 125 insertions(+), 4 deletions(-)\n",
      " create mode 100644 .gitignore\n"
     ]
    },
    {
     "name": "stderr",
     "output_type": "stream",
     "text": [
      "remote: error: Trace: dfbf91e2fd2e5011753f0003216ac1e3f03bc4c82e594e510e3d3978e4f8846a        \n",
      "remote: error: See https://gh.io/lfs for more information.        \n",
      "remote: error: File output/nyc_analysis.db is 108.66 MB; this exceeds GitHub's file size limit of 100.00 MB        \n",
      "remote: error: GH001: Large files detected. You may want to try Git Large File Storage - https://git-lfs.github.com.        \n",
      "To https://github.com/Takudzwa11-debug/NYC-Analysis-Project.git\n",
      " ! [remote rejected] main -> main (pre-receive hook declined)\n",
      "error: failed to push some refs to 'https://github.com/Takudzwa11-debug/NYC-Analysis-Project.git'\n"
     ]
    }
   ],
   "source": [
    "# Create .gitignore and exclude large files\n",
    "with open(\".gitignore\", \"a\") as f:\n",
    "    f.write(\"\\noutput/\\n*.db\\n\")\n",
    "\n",
    "# Stage and commit only valid files\n",
    "!git add .gitignore\n",
    "!git add .\n",
    "!git commit -m \"Exclude large .db files and re-commit clean repo\"\n",
    "!git push -u origin main\n"
   ]
  },
  {
   "cell_type": "code",
   "execution_count": 10,
   "id": "44fc43b6-c9c9-41a5-bdcb-c0a14d3df8cd",
   "metadata": {},
   "outputs": [
    {
     "name": "stdout",
     "output_type": "stream",
     "text": [
      "rm 'output/nyc_analysis.db'\n",
      "[main c5afd76] Remove large nyc_analysis.db file from repo history\n",
      " 1 file changed, 0 insertions(+), 0 deletions(-)\n",
      " delete mode 100644 output/nyc_analysis.db\n"
     ]
    },
    {
     "name": "stderr",
     "output_type": "stream",
     "text": [
      "remote: error: Trace: d57f66d495d175daa9c170a1ef3975e955ba71e8a4054987e7a3afc79a6a9520        \n",
      "remote: error: See https://gh.io/lfs for more information.        \n",
      "remote: error: File output/nyc_analysis.db is 108.66 MB; this exceeds GitHub's file size limit of 100.00 MB        \n",
      "remote: error: GH001: Large files detected. You may want to try Git Large File Storage - https://git-lfs.github.com.        \n",
      "To https://github.com/Takudzwa11-debug/NYC-Analysis-Project.git\n",
      " ! [remote rejected] main -> main (pre-receive hook declined)\n",
      "error: failed to push some refs to 'https://github.com/Takudzwa11-debug/NYC-Analysis-Project.git'\n"
     ]
    }
   ],
   "source": [
    "# Remove large DB file from git tracking\n",
    "!git rm --cached output/nyc_analysis.db\n",
    "\n",
    "# Recommit the cleaned repository\n",
    "!git commit -m \"Remove large nyc_analysis.db file from repo history\"\n",
    "\n",
    "# Push again\n",
    "!git push -u origin main\n",
    "\n"
   ]
  },
  {
   "cell_type": "code",
   "execution_count": 11,
   "id": "5848780b-6361-4dcf-8ad0-c3c7fe39212c",
   "metadata": {},
   "outputs": [],
   "source": [
    "with open(\".gitignore\", \"a\") as f:\n",
    "    f.write(\"\\noutput/*.db\\n\")\n"
   ]
  },
  {
   "cell_type": "code",
   "execution_count": 12,
   "id": "7465125e-b859-4944-8f50-314c06b4659e",
   "metadata": {},
   "outputs": [
    {
     "name": "stdout",
     "output_type": "stream",
     "text": [
      "WARNING: git-filter-branch has a glut of gotchas generating mangled history\n",
      "\t rewrites.  Hit Ctrl-C before proceeding to abort, then use an\n",
      "\t alternative filtering tool such as 'git filter-repo'\n",
      "\t (https://github.com/newren/git-filter-repo/) instead.  See the\n",
      "\t filter-branch manual page for more details; to squelch this warning,\n",
      "\t set FILTER_BRANCH_SQUELCH_WARNING=1.\n",
      "Proceeding with filter-branch...\n",
      "\n"
     ]
    },
    {
     "name": "stderr",
     "output_type": "stream",
     "text": [
      "Cannot rewrite branches: You have unstaged changes.\n"
     ]
    }
   ],
   "source": [
    "!git filter-branch --force --index-filter \\\n",
    "\"git rm --cached --ignore-unmatch output/nyc_analysis.db\" \\\n",
    "--prune-empty --tag-name-filter cat -- --all\n"
   ]
  },
  {
   "cell_type": "code",
   "execution_count": 13,
   "id": "3b33ad0e-fbcd-4da9-a006-273c13a84357",
   "metadata": {},
   "outputs": [
    {
     "name": "stderr",
     "output_type": "stream",
     "text": [
      "remote: error: Trace: 3bb5bc484ec1296966d35056809b34b3df2a4d24549e494b4041e044717e18e8        \n",
      "remote: error: See https://gh.io/lfs for more information.        \n",
      "remote: error: File output/nyc_analysis.db is 108.66 MB; this exceeds GitHub's file size limit of 100.00 MB        \n",
      "remote: error: GH001: Large files detected. You may want to try Git Large File Storage - https://git-lfs.github.com.        \n",
      "To https://github.com/Takudzwa11-debug/NYC-Analysis-Project.git\n",
      " ! [remote rejected] main -> main (pre-receive hook declined)\n",
      "error: failed to push some refs to 'https://github.com/Takudzwa11-debug/NYC-Analysis-Project.git'\n"
     ]
    }
   ],
   "source": [
    "!git reflog expire --expire=now --all\n",
    "!git gc --prune=now --aggressive\n",
    "!git push origin --force --all\n"
   ]
  },
  {
   "cell_type": "code",
   "execution_count": 14,
   "id": "d7d22fdc-5e85-44b3-a85d-d497f66c144a",
   "metadata": {},
   "outputs": [
    {
     "name": "stderr",
     "output_type": "stream",
     "text": [
      "'grep' is not recognized as an internal or external command,\n",
      "operable program or batch file.\n"
     ]
    }
   ],
   "source": [
    "!git ls-files | grep .db\n"
   ]
  },
  {
   "cell_type": "code",
   "execution_count": null,
   "id": "bf6314d9-92a2-4724-a7c3-1a9cda914410",
   "metadata": {},
   "outputs": [],
   "source": []
  }
 ],
 "metadata": {
  "kernelspec": {
   "display_name": "Python 3 (ipykernel)",
   "language": "python",
   "name": "python3"
  },
  "language_info": {
   "codemirror_mode": {
    "name": "ipython",
    "version": 3
   },
   "file_extension": ".py",
   "mimetype": "text/x-python",
   "name": "python",
   "nbconvert_exporter": "python",
   "pygments_lexer": "ipython3",
   "version": "3.12.7"
  }
 },
 "nbformat": 4,
 "nbformat_minor": 5
}
